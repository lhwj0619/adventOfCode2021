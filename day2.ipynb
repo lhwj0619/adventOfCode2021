{
 "cells": [
  {
   "cell_type": "code",
   "execution_count": 1,
   "metadata": {},
   "outputs": [],
   "source": [
    "with open(\"day2Data.txt\", \"r\") as f:\n",
    "    data = [i for i in f.read().split('\\n')]"
   ]
  },
  {
   "cell_type": "code",
   "execution_count": 2,
   "metadata": {},
   "outputs": [],
   "source": [
    "def part1():\n",
    "    x = 0\n",
    "    y = 0\n",
    "    for i in data:\n",
    "        action = i.split()[0]\n",
    "        amount = int(i.split()[1])\n",
    "        if action == 'forward':\n",
    "            x += amount\n",
    "        elif action == 'down':\n",
    "            y += amount\n",
    "        else:\n",
    "            y -= amount\n",
    "    return x*y"
   ]
  },
  {
   "cell_type": "code",
   "execution_count": 3,
   "metadata": {},
   "outputs": [
    {
     "name": "stdout",
     "output_type": "stream",
     "text": [
      "2322630\n"
     ]
    }
   ],
   "source": [
    "print(part1())"
   ]
  },
  {
   "cell_type": "code",
   "execution_count": 4,
   "metadata": {},
   "outputs": [],
   "source": [
    "def part2():\n",
    "    x = 0\n",
    "    y = 0\n",
    "    aim = 0\n",
    "    for i in data:\n",
    "        action = i.split()[0]\n",
    "        amount = int(i.split()[1])\n",
    "        if action == 'forward':\n",
    "            x += amount\n",
    "            y += (amount*aim)\n",
    "        elif action == 'down':\n",
    "            aim += amount\n",
    "        else:\n",
    "            aim -= amount\n",
    "    return x*y"
   ]
  },
  {
   "cell_type": "code",
   "execution_count": 5,
   "metadata": {},
   "outputs": [
    {
     "name": "stdout",
     "output_type": "stream",
     "text": [
      "2105273490\n"
     ]
    }
   ],
   "source": [
    "print(part2())"
   ]
  },
  {
   "cell_type": "code",
   "execution_count": null,
   "metadata": {},
   "outputs": [],
   "source": []
  }
 ],
 "metadata": {
  "interpreter": {
   "hash": "aee8b7b246df8f9039afb4144a1f6fd8d2ca17a180786b69acc140d282b71a49"
  },
  "kernelspec": {
   "display_name": "Python 3.9.7 64-bit",
   "language": "python",
   "name": "python3"
  },
  "language_info": {
   "codemirror_mode": {
    "name": "ipython",
    "version": 3
   },
   "file_extension": ".py",
   "mimetype": "text/x-python",
   "name": "python",
   "nbconvert_exporter": "python",
   "pygments_lexer": "ipython3",
   "version": "3.9.7"
  },
  "orig_nbformat": 4
 },
 "nbformat": 4,
 "nbformat_minor": 2
}
