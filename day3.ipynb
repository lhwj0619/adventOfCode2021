{
 "cells": [
  {
   "cell_type": "code",
   "execution_count": 141,
   "metadata": {},
   "outputs": [],
   "source": [
    "with open('day3Data.txt','r') as f:\n",
    "    data = [i for i in f.read().split('\\n')]"
   ]
  },
  {
   "cell_type": "code",
   "execution_count": 142,
   "metadata": {},
   "outputs": [
    {
     "name": "stdout",
     "output_type": "stream",
     "text": [
      "4160394\n"
     ]
    }
   ],
   "source": [
    "gamma = ''\n",
    "epsilon = ''\n",
    "for i in range(len(data[0])):\n",
    "    counter = 0\n",
    "    for j in data:\n",
    "        counter += int(j[i])\n",
    "    vals[i] = counter\n",
    "    if counter > 500:\n",
    "        gamma = gamma + '0'\n",
    "        epsilon = epsilon + '1'\n",
    "    else:\n",
    "        gamma = gamma + '1'\n",
    "        epsilon = epsilon + '0'\n",
    "\n",
    "gamma_d = int(gamma,2)\n",
    "epsilon_d = int(epsilon,2)\n",
    "\n",
    "ans = gamma_d*epsilon_d\n",
    "print(ans)"
   ]
  },
  {
   "cell_type": "markdown",
   "metadata": {},
   "source": []
  },
  {
   "cell_type": "code",
   "execution_count": 140,
   "metadata": {},
   "outputs": [
    {
     "name": "stdout",
     "output_type": "stream",
     "text": [
      "4125600\n"
     ]
    }
   ],
   "source": [
    "def checker(index, data, stream):\n",
    "    numbers = []\n",
    "    counter = 0\n",
    "    if stream == 'oxy':\n",
    "        for i in data:\n",
    "            counter += int(i[index])\n",
    "        if counter > len(data)/2:\n",
    "            for i in data:\n",
    "                if i[index] == '1':\n",
    "                    numbers.append(i)\n",
    "        elif counter < len(data)/2:\n",
    "            for i in data:\n",
    "                if i[index] == '0':\n",
    "                    numbers.append(i) \n",
    "        elif counter == len(data)/2:\n",
    "            for i in data:\n",
    "                if i[index] == '1':\n",
    "                    numbers.append(i)\n",
    "\n",
    "    if stream == 'co2':\n",
    "        for i in data:\n",
    "            counter += int(i[index])\n",
    "        if counter > len(data)/2:\n",
    "            for i in data:\n",
    "                if i[index] == '0':\n",
    "                    numbers.append(i)\n",
    "        elif counter < len(data)/2:\n",
    "            for i in data:\n",
    "                if i[index] == '1':\n",
    "                    numbers.append(i) \n",
    "        elif counter == len(data)/2:\n",
    "            for i in data:\n",
    "                if i[index] == '0':\n",
    "                    numbers.append(i)\n",
    "    return numbers\n",
    "\n",
    "store_oxy = {}\n",
    "store_co2 = {}\n",
    "oxy = 0\n",
    "co2 = 0\n",
    "\n",
    "for i in range(len(data)):\n",
    "    if i == 0:\n",
    "        store_oxy[i] = checker(i,data,'oxy')\n",
    "    elif len(store_oxy[i-1]) > 1:\n",
    "        store_oxy[i] = checker(i,store_oxy[i-1],'oxy')\n",
    "    elif len(store_oxy[i-1]) == 1:\n",
    "        oxy = int(store_oxy[i-1][0],2)\n",
    "        break\n",
    "\n",
    "for i in range(len(data)):\n",
    "    if i == 0:\n",
    "        store_co2[i] = checker(i,data,'co2')\n",
    "    elif len(store_co2[i-1]) > 1:\n",
    "        store_co2[i] = checker(i,store_co2[i-1],'co2')\n",
    "    elif len(store_co2[i-1]) == 1:\n",
    "        co2 = int(store_co2[i-1][0],2)\n",
    "        break\n",
    "\n",
    "print(oxy*co2)"
   ]
  },
  {
   "cell_type": "code",
   "execution_count": null,
   "metadata": {},
   "outputs": [],
   "source": []
  }
 ],
 "metadata": {
  "interpreter": {
   "hash": "aee8b7b246df8f9039afb4144a1f6fd8d2ca17a180786b69acc140d282b71a49"
  },
  "kernelspec": {
   "display_name": "Python 3.9.7 64-bit",
   "language": "python",
   "name": "python3"
  },
  "language_info": {
   "codemirror_mode": {
    "name": "ipython",
    "version": 3
   },
   "file_extension": ".py",
   "mimetype": "text/x-python",
   "name": "python",
   "nbconvert_exporter": "python",
   "pygments_lexer": "ipython3",
   "version": "3.9.7"
  },
  "orig_nbformat": 4
 },
 "nbformat": 4,
 "nbformat_minor": 2
}
